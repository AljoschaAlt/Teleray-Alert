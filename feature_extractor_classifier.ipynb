{
 "cells": [
  {
   "cell_type": "code",
   "execution_count": null,
   "id": "592a406b",
   "metadata": {},
   "outputs": [],
   "source": [
    "from .feature_extractor import FeatureExtractor\n",
    "from .classifier import Classifier\n",
    "\n",
    "\n",
    "class FeatureExtractorClassifier(object):\n",
    "    def __init__(self, workflow_element_names=[\n",
    "            'feature_extractor', 'classifier']):\n",
    "        self.element_names = workflow_element_names\n",
    "        self.feature_extractor_workflow = FeatureExtractor(\n",
    "            [self.element_names[0]])\n",
    "        self.classifier_workflow = Classifier([self.element_names[1]])\n",
    "\n",
    "    def train_submission(self, module_path, X_df, y_array, train_is=None):\n",
    "        if train_is is None:\n",
    "            train_is = slice(None, None, None)\n",
    "        fe = self.feature_extractor_workflow.train_submission(\n",
    "            module_path, X_df, y_array, train_is)\n",
    "        X_train_array = self.feature_extractor_workflow.test_submission(\n",
    "            fe, X_df.iloc[train_is])\n",
    "        clf = self.classifier_workflow.train_submission(\n",
    "            module_path, X_train_array, y_array[train_is])\n",
    "        return fe, clf\n",
    "\n",
    "    def test_submission(self, trained_model, X_df):\n",
    "        fe, clf = trained_model\n",
    "        X_test_array = self.feature_extractor_workflow.test_submission(\n",
    "            fe, X_df)\n",
    "        y_proba = self.classifier_workflow.test_submission(clf, X_test_array)\n",
    "        return y_proba"
   ]
  }
 ],
 "metadata": {
  "kernelspec": {
   "display_name": "Python 3",
   "language": "python",
   "name": "python3"
  },
  "language_info": {
   "codemirror_mode": {
    "name": "ipython",
    "version": 3
   },
   "file_extension": ".py",
   "mimetype": "text/x-python",
   "name": "python",
   "nbconvert_exporter": "python",
   "pygments_lexer": "ipython3",
   "version": "3.6.11"
  }
 },
 "nbformat": 4,
 "nbformat_minor": 5
}
