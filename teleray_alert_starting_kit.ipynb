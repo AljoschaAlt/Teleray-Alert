{
 "cells": [
  {
   "cell_type": "markdown",
   "id": "581e6301",
   "metadata": {},
   "source": [
    "# [IRSN](https://www.irsn.fr/FR/Pages/Home.aspx)\n",
    "# Project: Teleray Alert  \n",
    "*Damon Cecilia (IRSN/D3NSI), Chuzel Sonia (IRSN/LTD), Vidal Romain (IRSN/LTD), Alt Aljoscha (IRSN/Grenoble INP Ense3)*  "
   ]
  },
  {
   "cell_type": "markdown",
   "id": "fe6dff24",
   "metadata": {},
   "source": [
    "# Introduction  \n"
   ]
  },
  {
   "cell_type": "markdown",
   "id": "fbfac7af",
   "metadata": {},
   "source": [
    "The [teleray project](https://lsbb.cnrs.fr/recherche/onde-environnement-radiatif/telerayirsn/) was launched by the necessity to monitor in real time the elevation of ambiant radioactivity. This system takes the shape of more than 400 sensor placed on the french soil, thus allowing the surveillance of natural and man made radiological activities.  \n",
    "  \n",
    "A team of experts insures the watch and acquitment of radiological alerts 24/7 on the entire network. This tremendous work, with up to 1000 alerts per month, motivated this research to integrate artificial intelligence to automatize the identification of alerts sources hence facilitating the acquitment.  \n",
    "In this context, the data to develop this AI comes from several sources:\n",
    "   * [Ambiant dose rate](https://www.radiation-dosimetry.org/what-is-ambient-dose-equivalent-h10-definition/) from 150 sensors with 1 measure/10mns \n",
    "   * Internal temperature of the sensors, 1 measure/10mns\n",
    "   * Rain from [Météo France](https://meteofrance.com/), 1 measure/h\n",
    "   * Pressure from Météo France, 1 measure/h\n",
    "   * Zonal Wind from Météo France, 1 measure/h\n",
    "   * Temperature from Météo France, 1 measure/h\n",
    "   * Simulated Gamma from [BMCA](https://www.irsn.fr/FR/Larecherche/Organisation/equipes/radioprotection-homme/BMCA/Pages/bureau-modelisation-transferts-environnement-etude-consequences-accidents.aspx#.YN12Qbtxc2w),  1 measure/h   [ [1](#Link1) ]\n",
    "   * Environment for 135 of the sensors \n",
    "   * Sensors clusters defined by the experts for 109 sensors \n",
    "   \n",
    "To sum up the objective: Classification of radiological events using the data listed above "
   ]
  },
  {
   "cell_type": "code",
   "execution_count": 3,
   "id": "35b23957",
   "metadata": {},
   "outputs": [],
   "source": [
    "#Required libraries\n",
    "import os\n",
    "import pandas as pd\n",
    "import numpy as np\n",
    "import matplotlib.pyplot as plt\n",
    "import pickle\n",
    "from sklearn.metrics import roc_auc_score\n",
    "from sklearn.preprocessing import label_binarize\n",
    "from rampwf.score_types import BaseScoreType"
   ]
  },
  {
   "cell_type": "markdown",
   "id": "21035325",
   "metadata": {},
   "source": [
    "# Data Exploration "
   ]
  },
  {
   "cell_type": "markdown",
   "id": "31c2c120",
   "metadata": {},
   "source": [
    "## Loading the data "
   ]
  },
  {
   "cell_type": "code",
   "execution_count": 6,
   "id": "e0e6e56b",
   "metadata": {},
   "outputs": [],
   "source": [
    "f_name= 'train.pickle'\n",
    "f_path=os.path.join('.','data/public',f_name)\n",
    "X_train= pickle.load(open(f_path, 'rb'))\n",
    "y= X_train.Label"
   ]
  },
  {
   "cell_type": "markdown",
   "id": "5deef6e8",
   "metadata": {},
   "source": [
    "X_train contains two main type of data:\n",
    "   * Metadata about the event \n",
    "   * Time series"
   ]
  },
  {
   "cell_type": "markdown",
   "id": "4f3a01c1",
   "metadata": {},
   "source": [
    "Metadata:\n",
    "   * IdIRSN: Sensor ID \n",
    "   * Label: Classfication output \n",
    "   * Date_start/Date_end: Start/End time of the event\n",
    "   * Longitude/Latitude/Altitude: Sensor position\n",
    "   * Obstacle: Presence or not of an obstacle near the sensor \n",
    "   * CrankedArm/Rooftop/BuriedBase/Tripod: Booleans indicating if the sensor is placed with this method \n",
    "   * Cluster: If given, sensor group to which belongs the sensor designed by IdIRSN \n",
    "   * Event_length: Number of measures in the event"
   ]
  },
  {
   "cell_type": "code",
   "execution_count": 8,
   "id": "16e89479",
   "metadata": {},
   "outputs": [
    {
     "data": {
      "text/html": [
       "<div>\n",
       "<style scoped>\n",
       "    .dataframe tbody tr th:only-of-type {\n",
       "        vertical-align: middle;\n",
       "    }\n",
       "\n",
       "    .dataframe tbody tr th {\n",
       "        vertical-align: top;\n",
       "    }\n",
       "\n",
       "    .dataframe thead th {\n",
       "        text-align: right;\n",
       "    }\n",
       "</style>\n",
       "<table border=\"1\" class=\"dataframe\">\n",
       "  <thead>\n",
       "    <tr style=\"text-align: right;\">\n",
       "      <th></th>\n",
       "      <th>IdIRSN</th>\n",
       "      <th>Label</th>\n",
       "      <th>Date_start</th>\n",
       "      <th>Date_end</th>\n",
       "      <th>Longitude</th>\n",
       "      <th>Latitude</th>\n",
       "      <th>Altitude</th>\n",
       "      <th>Obstacle</th>\n",
       "      <th>CrankedArm</th>\n",
       "      <th>Rooftop</th>\n",
       "      <th>BuriedBase</th>\n",
       "      <th>Tripod</th>\n",
       "      <th>Cluster</th>\n",
       "    </tr>\n",
       "  </thead>\n",
       "  <tbody>\n",
       "    <tr>\n",
       "      <th>0</th>\n",
       "      <td>1029</td>\n",
       "      <td>Weather</td>\n",
       "      <td>2017-06-24 15:40:00</td>\n",
       "      <td>2017-06-25 02:00:00</td>\n",
       "      <td>4.894182</td>\n",
       "      <td>44.935719</td>\n",
       "      <td>130.0</td>\n",
       "      <td>0</td>\n",
       "      <td>True</td>\n",
       "      <td>False</td>\n",
       "      <td>False</td>\n",
       "      <td>False</td>\n",
       "      <td>NaN</td>\n",
       "    </tr>\n",
       "    <tr>\n",
       "      <th>1</th>\n",
       "      <td>1029</td>\n",
       "      <td>ElectronicPeak3</td>\n",
       "      <td>2018-03-30 11:20:00</td>\n",
       "      <td>2018-03-30 18:40:00</td>\n",
       "      <td>4.894182</td>\n",
       "      <td>44.935719</td>\n",
       "      <td>130.0</td>\n",
       "      <td>0</td>\n",
       "      <td>True</td>\n",
       "      <td>False</td>\n",
       "      <td>False</td>\n",
       "      <td>False</td>\n",
       "      <td>NaN</td>\n",
       "    </tr>\n",
       "    <tr>\n",
       "      <th>2</th>\n",
       "      <td>1446</td>\n",
       "      <td>Weather</td>\n",
       "      <td>2018-07-20 14:50:00</td>\n",
       "      <td>2018-07-20 23:10:00</td>\n",
       "      <td>5.044493</td>\n",
       "      <td>45.692329</td>\n",
       "      <td>249.0</td>\n",
       "      <td>1</td>\n",
       "      <td>False</td>\n",
       "      <td>False</td>\n",
       "      <td>False</td>\n",
       "      <td>True</td>\n",
       "      <td>BUGEY - CREYS MALVILLE</td>\n",
       "    </tr>\n",
       "    <tr>\n",
       "      <th>3</th>\n",
       "      <td>1446</td>\n",
       "      <td>Weather</td>\n",
       "      <td>2018-08-22 18:40:00</td>\n",
       "      <td>2018-08-23 01:00:00</td>\n",
       "      <td>5.044493</td>\n",
       "      <td>45.692329</td>\n",
       "      <td>249.0</td>\n",
       "      <td>1</td>\n",
       "      <td>False</td>\n",
       "      <td>False</td>\n",
       "      <td>False</td>\n",
       "      <td>True</td>\n",
       "      <td>BUGEY - CREYS MALVILLE</td>\n",
       "    </tr>\n",
       "    <tr>\n",
       "      <th>4</th>\n",
       "      <td>1446</td>\n",
       "      <td>Weather</td>\n",
       "      <td>2018-10-29 11:00:00</td>\n",
       "      <td>2018-10-30 08:50:00</td>\n",
       "      <td>5.044493</td>\n",
       "      <td>45.692329</td>\n",
       "      <td>249.0</td>\n",
       "      <td>1</td>\n",
       "      <td>False</td>\n",
       "      <td>False</td>\n",
       "      <td>False</td>\n",
       "      <td>True</td>\n",
       "      <td>BUGEY - CREYS MALVILLE</td>\n",
       "    </tr>\n",
       "  </tbody>\n",
       "</table>\n",
       "</div>"
      ],
      "text/plain": [
       "  IdIRSN            Label          Date_start            Date_end  Longitude  \\\n",
       "0   1029          Weather 2017-06-24 15:40:00 2017-06-25 02:00:00   4.894182   \n",
       "1   1029  ElectronicPeak3 2018-03-30 11:20:00 2018-03-30 18:40:00   4.894182   \n",
       "2   1446          Weather 2018-07-20 14:50:00 2018-07-20 23:10:00   5.044493   \n",
       "3   1446          Weather 2018-08-22 18:40:00 2018-08-23 01:00:00   5.044493   \n",
       "4   1446          Weather 2018-10-29 11:00:00 2018-10-30 08:50:00   5.044493   \n",
       "\n",
       "    Latitude Altitude Obstacle  CrankedArm  Rooftop  BuriedBase  Tripod  \\\n",
       "0  44.935719    130.0        0        True    False       False   False   \n",
       "1  44.935719    130.0        0        True    False       False   False   \n",
       "2  45.692329    249.0        1       False    False       False    True   \n",
       "3  45.692329    249.0        1       False    False       False    True   \n",
       "4  45.692329    249.0        1       False    False       False    True   \n",
       "\n",
       "                  Cluster  \n",
       "0                     NaN  \n",
       "1                     NaN  \n",
       "2  BUGEY - CREYS MALVILLE  \n",
       "3  BUGEY - CREYS MALVILLE  \n",
       "4  BUGEY - CREYS MALVILLE  "
      ]
     },
     "execution_count": 8,
     "metadata": {},
     "output_type": "execute_result"
    }
   ],
   "source": [
    "X_train.iloc[:,:13].head()"
   ]
  },
  {
   "cell_type": "markdown",
   "id": "85cc3b8d",
   "metadata": {},
   "source": [
    "Time series with measures each 10mns: \n",
    "   * Time series of the: Ambiant Dose Rate, Simulated Gamma, Precipitation, Internal Temperature, Pressure, Temperature, ZonalWind\n",
    "   * Columns 0 to 2183: measures of the time series with zero padding, i.e for each event the revelant data is in columns 0 to Event_length*7 (7 being the number of time series)\n",
    "   \n",
    "Additional information:\n",
    "   * DoseRate: time series with a measure each 10mns\n",
    "   * SimulatedGamma/Precipitation/InternalTemperaure/Pressure/Temperature/ZonalWind: time series resampled /10mns, originaly sampled at 1 measure/h"
   ]
  },
  {
   "cell_type": "code",
   "execution_count": 11,
   "id": "47c9a4a2",
   "metadata": {},
   "outputs": [
    {
     "data": {
      "text/html": [
       "<div>\n",
       "<style scoped>\n",
       "    .dataframe tbody tr th:only-of-type {\n",
       "        vertical-align: middle;\n",
       "    }\n",
       "\n",
       "    .dataframe tbody tr th {\n",
       "        vertical-align: top;\n",
       "    }\n",
       "\n",
       "    .dataframe thead th {\n",
       "        text-align: right;\n",
       "    }\n",
       "</style>\n",
       "<table border=\"1\" class=\"dataframe\">\n",
       "  <thead>\n",
       "    <tr style=\"text-align: right;\">\n",
       "      <th></th>\n",
       "      <th>0</th>\n",
       "      <th>1</th>\n",
       "      <th>2</th>\n",
       "      <th>3</th>\n",
       "      <th>4</th>\n",
       "      <th>5</th>\n",
       "      <th>6</th>\n",
       "      <th>7</th>\n",
       "      <th>8</th>\n",
       "      <th>9</th>\n",
       "      <th>...</th>\n",
       "      <th>2175</th>\n",
       "      <th>2176</th>\n",
       "      <th>2177</th>\n",
       "      <th>2178</th>\n",
       "      <th>2179</th>\n",
       "      <th>2180</th>\n",
       "      <th>2181</th>\n",
       "      <th>2182</th>\n",
       "      <th>2183</th>\n",
       "      <th>Event_length</th>\n",
       "    </tr>\n",
       "  </thead>\n",
       "  <tbody>\n",
       "    <tr>\n",
       "      <th>0</th>\n",
       "      <td>64.720001</td>\n",
       "      <td>66.440002</td>\n",
       "      <td>68.610001</td>\n",
       "      <td>68.809998</td>\n",
       "      <td>72.099998</td>\n",
       "      <td>76.940002</td>\n",
       "      <td>81.790001</td>\n",
       "      <td>89.489998</td>\n",
       "      <td>93.260002</td>\n",
       "      <td>96.360001</td>\n",
       "      <td>...</td>\n",
       "      <td>0.0</td>\n",
       "      <td>0.0</td>\n",
       "      <td>0.0</td>\n",
       "      <td>0.0</td>\n",
       "      <td>0.0</td>\n",
       "      <td>0.0</td>\n",
       "      <td>0.0</td>\n",
       "      <td>0.0</td>\n",
       "      <td>0.0</td>\n",
       "      <td>62</td>\n",
       "    </tr>\n",
       "    <tr>\n",
       "      <th>1</th>\n",
       "      <td>66.550003</td>\n",
       "      <td>73.540001</td>\n",
       "      <td>80.010002</td>\n",
       "      <td>79.230003</td>\n",
       "      <td>81.940002</td>\n",
       "      <td>87.199997</td>\n",
       "      <td>132.300000</td>\n",
       "      <td>76.199997</td>\n",
       "      <td>75.040001</td>\n",
       "      <td>74.900002</td>\n",
       "      <td>...</td>\n",
       "      <td>0.0</td>\n",
       "      <td>0.0</td>\n",
       "      <td>0.0</td>\n",
       "      <td>0.0</td>\n",
       "      <td>0.0</td>\n",
       "      <td>0.0</td>\n",
       "      <td>0.0</td>\n",
       "      <td>0.0</td>\n",
       "      <td>0.0</td>\n",
       "      <td>44</td>\n",
       "    </tr>\n",
       "    <tr>\n",
       "      <th>2</th>\n",
       "      <td>72.080002</td>\n",
       "      <td>74.320000</td>\n",
       "      <td>85.110001</td>\n",
       "      <td>91.040001</td>\n",
       "      <td>92.199997</td>\n",
       "      <td>90.919998</td>\n",
       "      <td>113.700000</td>\n",
       "      <td>125.300000</td>\n",
       "      <td>133.500000</td>\n",
       "      <td>124.800000</td>\n",
       "      <td>...</td>\n",
       "      <td>0.0</td>\n",
       "      <td>0.0</td>\n",
       "      <td>0.0</td>\n",
       "      <td>0.0</td>\n",
       "      <td>0.0</td>\n",
       "      <td>0.0</td>\n",
       "      <td>0.0</td>\n",
       "      <td>0.0</td>\n",
       "      <td>0.0</td>\n",
       "      <td>50</td>\n",
       "    </tr>\n",
       "    <tr>\n",
       "      <th>3</th>\n",
       "      <td>73.339996</td>\n",
       "      <td>73.279999</td>\n",
       "      <td>75.720001</td>\n",
       "      <td>80.339996</td>\n",
       "      <td>78.089996</td>\n",
       "      <td>82.870003</td>\n",
       "      <td>91.680000</td>\n",
       "      <td>97.540001</td>\n",
       "      <td>97.339996</td>\n",
       "      <td>98.629997</td>\n",
       "      <td>...</td>\n",
       "      <td>0.0</td>\n",
       "      <td>0.0</td>\n",
       "      <td>0.0</td>\n",
       "      <td>0.0</td>\n",
       "      <td>0.0</td>\n",
       "      <td>0.0</td>\n",
       "      <td>0.0</td>\n",
       "      <td>0.0</td>\n",
       "      <td>0.0</td>\n",
       "      <td>38</td>\n",
       "    </tr>\n",
       "    <tr>\n",
       "      <th>4</th>\n",
       "      <td>80.910004</td>\n",
       "      <td>83.110001</td>\n",
       "      <td>88.529999</td>\n",
       "      <td>91.870003</td>\n",
       "      <td>94.220001</td>\n",
       "      <td>95.449997</td>\n",
       "      <td>91.419998</td>\n",
       "      <td>94.070000</td>\n",
       "      <td>94.610001</td>\n",
       "      <td>99.230003</td>\n",
       "      <td>...</td>\n",
       "      <td>0.0</td>\n",
       "      <td>0.0</td>\n",
       "      <td>0.0</td>\n",
       "      <td>0.0</td>\n",
       "      <td>0.0</td>\n",
       "      <td>0.0</td>\n",
       "      <td>0.0</td>\n",
       "      <td>0.0</td>\n",
       "      <td>0.0</td>\n",
       "      <td>131</td>\n",
       "    </tr>\n",
       "  </tbody>\n",
       "</table>\n",
       "<p>5 rows × 2185 columns</p>\n",
       "</div>"
      ],
      "text/plain": [
       "           0          1          2          3          4          5  \\\n",
       "0  64.720001  66.440002  68.610001  68.809998  72.099998  76.940002   \n",
       "1  66.550003  73.540001  80.010002  79.230003  81.940002  87.199997   \n",
       "2  72.080002  74.320000  85.110001  91.040001  92.199997  90.919998   \n",
       "3  73.339996  73.279999  75.720001  80.339996  78.089996  82.870003   \n",
       "4  80.910004  83.110001  88.529999  91.870003  94.220001  95.449997   \n",
       "\n",
       "            6           7           8           9  ...  2175  2176  2177  \\\n",
       "0   81.790001   89.489998   93.260002   96.360001  ...   0.0   0.0   0.0   \n",
       "1  132.300000   76.199997   75.040001   74.900002  ...   0.0   0.0   0.0   \n",
       "2  113.700000  125.300000  133.500000  124.800000  ...   0.0   0.0   0.0   \n",
       "3   91.680000   97.540001   97.339996   98.629997  ...   0.0   0.0   0.0   \n",
       "4   91.419998   94.070000   94.610001   99.230003  ...   0.0   0.0   0.0   \n",
       "\n",
       "   2178  2179  2180  2181  2182  2183  Event_length  \n",
       "0   0.0   0.0   0.0   0.0   0.0   0.0            62  \n",
       "1   0.0   0.0   0.0   0.0   0.0   0.0            44  \n",
       "2   0.0   0.0   0.0   0.0   0.0   0.0            50  \n",
       "3   0.0   0.0   0.0   0.0   0.0   0.0            38  \n",
       "4   0.0   0.0   0.0   0.0   0.0   0.0           131  \n",
       "\n",
       "[5 rows x 2185 columns]"
      ]
     },
     "execution_count": 11,
     "metadata": {},
     "output_type": "execute_result"
    }
   ],
   "source": [
    "X_train.iloc[:,13:].head()"
   ]
  },
  {
   "cell_type": "markdown",
   "id": "5cde2dc0",
   "metadata": {},
   "source": [
    "### Proportion of output labels "
   ]
  },
  {
   "cell_type": "code",
   "execution_count": 12,
   "id": "c8368f66",
   "metadata": {},
   "outputs": [
    {
     "name": "stdout",
     "output_type": "stream",
     "text": [
      "Number of samples: 261\n"
     ]
    },
    {
     "data": {
      "image/png": "[encoded data removed]",
      "text/plain": [
       "<Figure size 360x360 with 1 Axes>"
      ]
     },
     "metadata": {},
     "output_type": "display_data"
    }
   ],
   "source": [
    "print('Number of samples: %s' % X_train.shape[0])\n",
    "X_train.rename(columns={'IdIRSN': 'Labels'}).groupby('Label').count().plot(\n",
    "    y='Labels', kind='pie', autopct='%.2f', figsize=(5, 5));"
   ]
  },
  {
   "cell_type": "markdown",
   "id": "97b32578",
   "metadata": {},
   "source": [
    "### Events examples "
   ]
  },
  {
   "cell_type": "code",
   "execution_count": 23,
   "id": "f4081478",
   "metadata": {},
   "outputs": [
    {
     "data": {
      "image/png": "[encoded data removed]",
      "text/plain": [
       "<Figure size 432x288 with 1 Axes>"
      ]
     },
     "metadata": {
      "needs_background": "light"
     },
     "output_type": "display_data"
    }
   ],
   "source": [
    "fig=plt.plot(X_train.iloc[0,13:X_train.iloc[0,-1]])\n",
    "plt.ylabel('Dose Rate')\n",
    "plt.xlabel('Sample')\n",
    "plt.title('Weather event')\n",
    "plt.show()"
   ]
  },
  {
   "cell_type": "code",
   "execution_count": 28,
   "id": "48c21a09",
   "metadata": {},
   "outputs": [
    {
     "data": {
      "image/png": "[encoded data removed]",
      "text/plain": [
       "<Figure size 432x288 with 1 Axes>"
      ]
     },
     "metadata": {
      "needs_background": "light"
     },
     "output_type": "display_data"
    }
   ],
   "source": [
    "fig=plt.plot(X_train.iloc[1,13:X_train.iloc[1,-1]])\n",
    "plt.ylabel('Dose Rate')\n",
    "plt.xlabel('Sample')\n",
    "plt.title('Electronic Peak')\n",
    "plt.show()"
   ]
  },
  {
   "cell_type": "code",
   "execution_count": 32,
   "id": "ce04ea23",
   "metadata": {},
   "outputs": [
    {
     "data": {
      "image/png": "[encoded data removed]",
      "text/plain": [
       "<Figure size 432x288 with 1 Axes>"
      ]
     },
     "metadata": {
      "needs_background": "light"
     },
     "output_type": "display_data"
    }
   ],
   "source": [
    "fig=plt.plot(X_train.iloc[209,13:X_train.iloc[209,-1]])\n",
    "plt.ylabel('Dose Rate')\n",
    "plt.xlabel('Sample')\n",
    "plt.title('Atmospheric Rejection')\n",
    "plt.show()"
   ]
  },
  {
   "cell_type": "markdown",
   "id": "b62d71af",
   "metadata": {},
   "source": [
    "# Classification problem "
   ]
  },
  {
   "cell_type": "markdown",
   "id": "1b66ee4a",
   "metadata": {},
   "source": [
    "Each submission will contain two classes, saved in two different files:  \n",
    "* The *Feature Extractor* in feature_extractor.py to extract features for the classification \n",
    "* The *Classifier* in classifier.py to classify the radiological events\n",
    "\n",
    "The first step is a feature extractor, taking the raw time series and turning them in vector of statistical properties."
   ]
  },
  {
   "cell_type": "code",
   "execution_count": 158,
   "id": "875b121a",
   "metadata": {},
   "outputs": [],
   "source": [
    "# file submissions/starting_kit/feature_extractor.py\n",
    "\n",
    "from tsfresh import extract_features\n",
    "from tsfresh.utilities.dataframe_functions import impute\n",
    "from tsfresh.feature_selection.relevance import calculate_relevance_table\n",
    "import pandas as pd\n",
    "import numpy as np\n",
    "\n",
    "class FeatureExtractor():\n",
    "    def __init__(self):\n",
    "        pass\n",
    "\n",
    "    def fit(self, X_train, y):\n",
    "        #Reshaping the dataframe to fit tsfresh requirements :\n",
    "        columns= ['DoseRate', 'SimulatedGamma', 'Precipitation', 'InternalTemperature', 'Pressure', 'Temperature', 'ZonalWind']\n",
    "        X_tsfresh= pd.DataFrame([],columns=columns)\n",
    "        X_tsfresh['Key']=np.concatenate([np.array([k]*X_train.at[k,'Event_length']) for k in X_train.index])\n",
    "        for i,data in enumerate(columns):\n",
    "            X_tsfresh[data]=np.concatenate([X_train.loc[X_train.index==k,list(range(X_train.at[k,'Event_length']*i,X_train.at[k,'Event_length']*(i+1)))].values for k in X_train.index], axis=1).reshape([X_tsfresh.shape[0],1])\n",
    "        X_tsfresh=X_tsfresh.drop(columns='InternalTemperature').astype('float64')#Drop deficient column and force column type\n",
    "        extracted_features = extract_features(X_tsfresh, column_id=\"Key\")\n",
    "        #Imputation to remove unusable features creating nans \n",
    "        extracted_features=impute(extracted_features)  \n",
    "        #Calculation of p_values to evaluate features usefullness\n",
    "        df_p_values=calculate_relevance_table(extracted_features, y, ml_task='classification')\n",
    "        self.df_p_value= df_p_values\n",
    "        #Deleting irrelevant features according to p_values\n",
    "        extracted_features=extracted_features.drop(columns=df_p_values[df_p_values.relevant==0].index.values)\n",
    "        #Dictionnary containing features and corresponding parameters \n",
    "        self.features=  extracted_features.columns\n",
    "        \n",
    "    def transform(self, X):\n",
    "        #Reshaping the dataframe to fit tsfresh requirements :\n",
    "        columns= ['DoseRate', 'SimulatedGamma', 'Precipitation', 'InternalTemperature', 'Pressure', 'Temperature', 'ZonalWind']\n",
    "        X_tsfresh= pd.DataFrame([],columns=columns)\n",
    "        X_tsfresh['Key']=np.concatenate([np.array([k]*X.at[k,'Event_length']) for k in X.index])\n",
    "        for i,data in enumerate(columns):\n",
    "            X_tsfresh[data]=np.concatenate([X.loc[X.index==k,list(range(X.at[k,'Event_length']*i, X.at[k,'Event_length']*(i+1)))].values for k in X.index], axis=1).reshape([X_tsfresh.shape[0],1])\n",
    "        X_tsfresh=X_tsfresh.drop(columns='InternalTemperature').astype('float64')#Drop deficient column and force column type\n",
    "        X= extract_features(X_tsfresh, column_id=\"Key\")\n",
    "        return impute(X[self.features])"
   ]
  },
  {
   "cell_type": "markdown",
   "id": "1074a154",
   "metadata": {},
   "source": [
    "*Overwriting submissions/starting_kit/features_extractor.py*  \n",
    "The classifier implements a classifier of the scikit-learn template. The default is a random forest."
   ]
  },
  {
   "cell_type": "code",
   "execution_count": 86,
   "id": "92b7abfc",
   "metadata": {},
   "outputs": [],
   "source": [
    "# file submissions/starting_kit/classifier.py\n",
    "\n",
    "from sklearn.ensemble import RandomForestClassifier\n",
    "from sklearn.pipeline import Pipeline\n",
    "from sklearn.base import BaseEstimator\n",
    "\n",
    "\n",
    "class Classifier(BaseEstimator):\n",
    "    def __init__(self):\n",
    "        self.n_estimators = 100\n",
    "        self.clf = Pipeline([\n",
    "            ('clf', RandomForestClassifier(\n",
    "                n_estimators=self.n_estimators, random_state=2))\n",
    "        ])\n",
    "\n",
    "    def fit(self, X, y):\n",
    "        self.clf.fit(X, y)\n",
    "\n",
    "    def predict(self, X):\n",
    "        return self.clf.predict(X)\n",
    "\n",
    "    def predict_proba(self, X):\n",
    "        return self.clf.predict_proba(X)"
   ]
  },
  {
   "cell_type": "markdown",
   "id": "a865dcb0",
   "metadata": {},
   "source": [
    "*Overwriting submissions/starting_kit/classifier.py*  \n"
   ]
  },
  {
   "cell_type": "markdown",
   "id": "a22dfc22",
   "metadata": {},
   "source": [
    "# The scores"
   ]
  },
  {
   "cell_type": "markdown",
   "id": "8f803056",
   "metadata": {},
   "source": [
    "This classification problem is evaluated through two scores taking into account class imbalance: \n",
    "* Weighted AUC \n",
    "* [Balanced Accuracy](https://github.com/paris-saclay-cds/ramp-workflow/blob/master/rampwf/score_types/balanced_accuracy.py)"
   ]
  },
  {
   "cell_type": "markdown",
   "id": "b0acd5ca",
   "metadata": {},
   "source": [
    "The weighted AUC is calculated using the [scikit-learn library](https://scikit-learn.org/stable/modules/generated/sklearn.metrics.roc_auc_score.html), computing the average AUC over the labels weighted by support to take into account class imbalance (the class is shown below). "
   ]
  },
  {
   "cell_type": "code",
   "execution_count": 87,
   "id": "a8ec196f",
   "metadata": {},
   "outputs": [],
   "source": [
    "class weighted_ROCAUC(BaseScoreType):\n",
    "    is_lower_the_better = False\n",
    "    minimum = 0.0\n",
    "    maximum = 1.0\n",
    "\n",
    "    def __init__(self, name='weighted_roc_auc', precision=2):\n",
    "        self.name = name\n",
    "        self.precision = precision\n",
    "\n",
    "    def score_function(self, ground_truths, predictions):\n",
    "        \"\"\"\n",
    "            Weighted average AUC:\n",
    "            Calculate metrics for each label, and find their average, weighted by support. \n",
    "        \"\"\"\n",
    "        y_proba = predictions.y_pred #shape (n_samples, n_classes)\n",
    "        y_true_proba = ground_truths.y_pred_label_index #shape (n_samples, 1)\n",
    "        y_true_proba= label_binarize(y_true_proba, classes=np.unique(y_true_proba)) #shape (n_samples, n_classes)\n",
    "        self.check_y_pred_dimensions(y_true_proba, y_proba)\n",
    "        return self.__call__(y_true_proba, y_proba)\n",
    "\n",
    "    def __call__(self, y_true_proba, y_proba):\n",
    "        return roc_auc_score(y_true_proba, y_proba, average='weigthed')"
   ]
  },
  {
   "cell_type": "markdown",
   "id": "6c1261c4",
   "metadata": {},
   "source": [
    "# Ressources "
   ]
  },
  {
   "cell_type": "markdown",
   "id": "d1a8b9c3",
   "metadata": {},
   "source": [
    "[1]<a class=\"anchor\" id=\"Link1\"></a> https://meetingorganizer.copernicus.org/EGU21/EGU21-9081.html"
   ]
  }
 ],
 "metadata": {
  "kernelspec": {
   "display_name": "Python 3",
   "language": "python",
   "name": "python3"
  },
  "language_info": {
   "codemirror_mode": {
    "name": "ipython",
    "version": 3
   },
   "file_extension": ".py",
   "mimetype": "text/x-python",
   "name": "python",
   "nbconvert_exporter": "python",
   "pygments_lexer": "ipython3",
   "version": "3.6.11"
  }
 },
 "nbformat": 4,
 "nbformat_minor": 5
}
