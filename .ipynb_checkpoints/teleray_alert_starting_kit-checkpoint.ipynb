{
 "cells": [
  {
   "cell_type": "markdown",
   "id": "581e6301",
   "metadata": {},
   "source": [
    "# [IRSN](https://www.irsn.fr/FR/Pages/Home.aspx)\n",
    "# Project: Teleray Alert  \n",
    "*Damon Cecilia (IRSN/D3NSI), Chuzel Sonia (IRSN/LTD), Vidal Romain (IRSN/LTD), Alt Aljoscha (IRSN/Grenoble INP Ense3)*  "
   ]
  },
  {
   "cell_type": "markdown",
   "id": "fe6dff24",
   "metadata": {},
   "source": [
    "# Introduction  \n"
   ]
  },
  {
   "cell_type": "markdown",
   "id": "fbfac7af",
   "metadata": {},
   "source": [
    "The [teleray project](https://lsbb.cnrs.fr/recherche/onde-environnement-radiatif/telerayirsn/) was launched by the necessity to monitor in real time the elevation of ambiant radioactivity. This system takes the shape of more than 400 sensor placed on the french soil, thus allowing the surveillance of natural and man made radiological activities.  \n",
    "  \n",
    "A team of experts insures the watch and acquitment of radiological alerts 24/7 on the entire network. This tremendous work, with up to 1000 alerts per month, motivated this research to integrate artificial intelligence to automatize the identification of alerts sources hence facilitating the acquitment.  \n",
    "In this context, the data to develop this AI comes from several sources:\n",
    "   * [Ambiant dose rate](https://www.radiation-dosimetry.org/what-is-ambient-dose-equivalent-h10-definition/) from 150 sensors with 1 measure/10mns \n",
    "   * Internal temperature of the sensors, 1 measure/10mns\n",
    "   * Rain from [Météo France](https://meteofrance.com/), 1 measure/h\n",
    "   * Pressure from Météo France, 1 measure/h\n",
    "   * Temperature from Météo France, 1 measure/h\n",
    "   * Simulated Gamma from [BMCA](https://www.irsn.fr/FR/Larecherche/Organisation/equipes/radioprotection-homme/BMCA/Pages/bureau-modelisation-transferts-environnement-etude-consequences-accidents.aspx#.YN12Qbtxc2w),  1 measure/h   [ [1](#Link1) ]\n",
    "   * Environment for 135 of the sensors \n",
    "   * Sensors clusters defined by the experts for 109 sensors \n",
    "   \n",
    "To sum up the objective: Classification of radiological events using the data listed above "
   ]
  },
  {
   "cell_type": "code",
   "execution_count": 2,
   "id": "35b23957",
   "metadata": {},
   "outputs": [],
   "source": [
    "#Required libraries\n",
    "import pandas as pd\n",
    "import numpy as np\n",
    "import matplotlib.pyplot as plt\n",
    "import pickle\n",
    "from sklearn.metrics import roc_auc_score\n",
    "from sklearn.preprocessing import label_binarize"
   ]
  },
  {
   "cell_type": "markdown",
   "id": "21035325",
   "metadata": {},
   "source": [
    "# Data Exploration "
   ]
  },
  {
   "cell_type": "markdown",
   "id": "31c2c120",
   "metadata": {},
   "source": [
    "## Loading the data "
   ]
  },
  {
   "cell_type": "code",
   "execution_count": 3,
   "id": "e0e6e56b",
   "metadata": {},
   "outputs": [],
   "source": [
    "events= pickle.load(open('/projets/teleray_alert/data/Fichiers 2017-2020/dataFrames/train_events.pickle', 'rb'))\n",
    "time_series= pickle.load(open('/projets/teleray_alert/data/Fichiers 2017-2020/dataFrames/train_time_series.pickle', 'rb'))"
   ]
  },
  {
   "cell_type": "markdown",
   "id": "5deef6e8",
   "metadata": {},
   "source": [
    "The data is separated in two pandas dataframes:\n",
    "* events containing at each line metadata about the event \n",
    "* time_series containing the time series associated to each event, the column key refering to events.index "
   ]
  },
  {
   "cell_type": "markdown",
   "id": "4f3a01c1",
   "metadata": {},
   "source": [
    "Events contains:\n",
    "   * IdIRSN: Sensor ID \n",
    "   * Label: Classfication output \n",
    "   * Date_start/Date_end: Start/End time of the event\n",
    "   * Longitude/Latitude/Altitude: Sensor position\n",
    "   * Obstacle: Presence or not of an obstacle near the sensor \n",
    "   * CrankedArm/Rooftop/BuriedBase/Tripod: Booleans indicating if the sensor is placed with this method \n",
    "   * Cluster: If given, sensor group to which belongs the sensor designed by IdIRSN "
   ]
  },
  {
   "cell_type": "code",
   "execution_count": 4,
   "id": "16e89479",
   "metadata": {},
   "outputs": [
    {
     "data": {
      "text/html": [
       "<div>\n",
       "<style scoped>\n",
       "    .dataframe tbody tr th:only-of-type {\n",
       "        vertical-align: middle;\n",
       "    }\n",
       "\n",
       "    .dataframe tbody tr th {\n",
       "        vertical-align: top;\n",
       "    }\n",
       "\n",
       "    .dataframe thead th {\n",
       "        text-align: right;\n",
       "    }\n",
       "</style>\n",
       "<table border=\"1\" class=\"dataframe\">\n",
       "  <thead>\n",
       "    <tr style=\"text-align: right;\">\n",
       "      <th></th>\n",
       "      <th>IdIRSN</th>\n",
       "      <th>Label</th>\n",
       "      <th>Date_start</th>\n",
       "      <th>Date_end</th>\n",
       "      <th>Longitude</th>\n",
       "      <th>Latitude</th>\n",
       "      <th>Altitude</th>\n",
       "      <th>Obstacle</th>\n",
       "      <th>CrankedArm</th>\n",
       "      <th>Rooftop</th>\n",
       "      <th>BuriedBase</th>\n",
       "      <th>Tripod</th>\n",
       "      <th>Cluster</th>\n",
       "    </tr>\n",
       "  </thead>\n",
       "  <tbody>\n",
       "    <tr>\n",
       "      <th>0</th>\n",
       "      <td>1029</td>\n",
       "      <td>Weather</td>\n",
       "      <td>2017-06-24 15:40:00</td>\n",
       "      <td>2017-06-25 02:00:00</td>\n",
       "      <td>4.894182</td>\n",
       "      <td>44.935719</td>\n",
       "      <td>130.0</td>\n",
       "      <td>0</td>\n",
       "      <td>True</td>\n",
       "      <td>False</td>\n",
       "      <td>False</td>\n",
       "      <td>False</td>\n",
       "      <td>NaN</td>\n",
       "    </tr>\n",
       "    <tr>\n",
       "      <th>1</th>\n",
       "      <td>1029</td>\n",
       "      <td>ElectronicPeak3</td>\n",
       "      <td>2018-03-30 11:20:00</td>\n",
       "      <td>2018-03-30 18:40:00</td>\n",
       "      <td>4.894182</td>\n",
       "      <td>44.935719</td>\n",
       "      <td>130.0</td>\n",
       "      <td>0</td>\n",
       "      <td>True</td>\n",
       "      <td>False</td>\n",
       "      <td>False</td>\n",
       "      <td>False</td>\n",
       "      <td>NaN</td>\n",
       "    </tr>\n",
       "    <tr>\n",
       "      <th>2</th>\n",
       "      <td>1446</td>\n",
       "      <td>Weather</td>\n",
       "      <td>2018-07-20 14:50:00</td>\n",
       "      <td>2018-07-20 23:10:00</td>\n",
       "      <td>5.044493</td>\n",
       "      <td>45.692329</td>\n",
       "      <td>249.0</td>\n",
       "      <td>1</td>\n",
       "      <td>False</td>\n",
       "      <td>False</td>\n",
       "      <td>False</td>\n",
       "      <td>True</td>\n",
       "      <td>BUGEY - CREYS MALVILLE</td>\n",
       "    </tr>\n",
       "    <tr>\n",
       "      <th>3</th>\n",
       "      <td>1446</td>\n",
       "      <td>Weather</td>\n",
       "      <td>2018-08-22 18:40:00</td>\n",
       "      <td>2018-08-23 01:00:00</td>\n",
       "      <td>5.044493</td>\n",
       "      <td>45.692329</td>\n",
       "      <td>249.0</td>\n",
       "      <td>1</td>\n",
       "      <td>False</td>\n",
       "      <td>False</td>\n",
       "      <td>False</td>\n",
       "      <td>True</td>\n",
       "      <td>BUGEY - CREYS MALVILLE</td>\n",
       "    </tr>\n",
       "    <tr>\n",
       "      <th>4</th>\n",
       "      <td>1446</td>\n",
       "      <td>Weather</td>\n",
       "      <td>2018-10-29 11:00:00</td>\n",
       "      <td>2018-10-30 08:50:00</td>\n",
       "      <td>5.044493</td>\n",
       "      <td>45.692329</td>\n",
       "      <td>249.0</td>\n",
       "      <td>1</td>\n",
       "      <td>False</td>\n",
       "      <td>False</td>\n",
       "      <td>False</td>\n",
       "      <td>True</td>\n",
       "      <td>BUGEY - CREYS MALVILLE</td>\n",
       "    </tr>\n",
       "  </tbody>\n",
       "</table>\n",
       "</div>"
      ],
      "text/plain": [
       "  IdIRSN            Label          Date_start            Date_end  Longitude  \\\n",
       "0   1029          Weather 2017-06-24 15:40:00 2017-06-25 02:00:00   4.894182   \n",
       "1   1029  ElectronicPeak3 2018-03-30 11:20:00 2018-03-30 18:40:00   4.894182   \n",
       "2   1446          Weather 2018-07-20 14:50:00 2018-07-20 23:10:00   5.044493   \n",
       "3   1446          Weather 2018-08-22 18:40:00 2018-08-23 01:00:00   5.044493   \n",
       "4   1446          Weather 2018-10-29 11:00:00 2018-10-30 08:50:00   5.044493   \n",
       "\n",
       "    Latitude Altitude Obstacle  CrankedArm  Rooftop  BuriedBase  Tripod  \\\n",
       "0  44.935719    130.0        0        True    False       False   False   \n",
       "1  44.935719    130.0        0        True    False       False   False   \n",
       "2  45.692329    249.0        1       False    False       False    True   \n",
       "3  45.692329    249.0        1       False    False       False    True   \n",
       "4  45.692329    249.0        1       False    False       False    True   \n",
       "\n",
       "                  Cluster  \n",
       "0                     NaN  \n",
       "1                     NaN  \n",
       "2  BUGEY - CREYS MALVILLE  \n",
       "3  BUGEY - CREYS MALVILLE  \n",
       "4  BUGEY - CREYS MALVILLE  "
      ]
     },
     "execution_count": 4,
     "metadata": {},
     "output_type": "execute_result"
    }
   ],
   "source": [
    "events.head()"
   ]
  },
  {
   "cell_type": "markdown",
   "id": "85cc3b8d",
   "metadata": {},
   "source": [
    "Time_series contains time series with measures each 10mns: \n",
    "   * Key_event: index of the event, in dataframe events, to which the measure belongs\n",
    "   * DoseRate: time series with a measure each 10mns\n",
    "   * SimulatedGamma/Precipitation/InternalTemperaure/Pressure/Temperature/ZonalWind: time series resampled /10mns, originaly sampled at 1 measure/h\n",
    "   * Date: date of the measurement "
   ]
  },
  {
   "cell_type": "code",
   "execution_count": 5,
   "id": "47c9a4a2",
   "metadata": {},
   "outputs": [
    {
     "data": {
      "text/html": [
       "<div>\n",
       "<style scoped>\n",
       "    .dataframe tbody tr th:only-of-type {\n",
       "        vertical-align: middle;\n",
       "    }\n",
       "\n",
       "    .dataframe tbody tr th {\n",
       "        vertical-align: top;\n",
       "    }\n",
       "\n",
       "    .dataframe thead th {\n",
       "        text-align: right;\n",
       "    }\n",
       "</style>\n",
       "<table border=\"1\" class=\"dataframe\">\n",
       "  <thead>\n",
       "    <tr style=\"text-align: right;\">\n",
       "      <th></th>\n",
       "      <th>Key_event</th>\n",
       "      <th>DoseRate</th>\n",
       "      <th>SimulatedGamma</th>\n",
       "      <th>Precipitation</th>\n",
       "      <th>InternalTemperature</th>\n",
       "      <th>Pressure</th>\n",
       "      <th>Temperature</th>\n",
       "      <th>ZonalWind</th>\n",
       "      <th>Date</th>\n",
       "    </tr>\n",
       "  </thead>\n",
       "  <tbody>\n",
       "    <tr>\n",
       "      <th>0</th>\n",
       "      <td>0</td>\n",
       "      <td>64.720001</td>\n",
       "      <td>2.379895</td>\n",
       "      <td>0.004395</td>\n",
       "      <td>NaN</td>\n",
       "      <td>36319.777344</td>\n",
       "      <td>303.381073</td>\n",
       "      <td>3.325241</td>\n",
       "      <td>2017-06-24 15:40:00</td>\n",
       "    </tr>\n",
       "    <tr>\n",
       "      <th>1</th>\n",
       "      <td>0</td>\n",
       "      <td>66.440002</td>\n",
       "      <td>2.379895</td>\n",
       "      <td>0.004395</td>\n",
       "      <td>39.5</td>\n",
       "      <td>36319.777344</td>\n",
       "      <td>303.381073</td>\n",
       "      <td>3.325241</td>\n",
       "      <td>2017-06-24 15:50:00</td>\n",
       "    </tr>\n",
       "    <tr>\n",
       "      <th>2</th>\n",
       "      <td>0</td>\n",
       "      <td>68.610001</td>\n",
       "      <td>2.150784</td>\n",
       "      <td>0.000489</td>\n",
       "      <td>39.0</td>\n",
       "      <td>100340.179688</td>\n",
       "      <td>303.591797</td>\n",
       "      <td>3.748219</td>\n",
       "      <td>2017-06-24 16:00:00</td>\n",
       "    </tr>\n",
       "    <tr>\n",
       "      <th>3</th>\n",
       "      <td>0</td>\n",
       "      <td>68.809998</td>\n",
       "      <td>2.150784</td>\n",
       "      <td>0.000489</td>\n",
       "      <td>NaN</td>\n",
       "      <td>100340.179688</td>\n",
       "      <td>303.591797</td>\n",
       "      <td>3.748219</td>\n",
       "      <td>2017-06-24 16:10:00</td>\n",
       "    </tr>\n",
       "    <tr>\n",
       "      <th>4</th>\n",
       "      <td>0</td>\n",
       "      <td>72.099998</td>\n",
       "      <td>2.150784</td>\n",
       "      <td>0.000489</td>\n",
       "      <td>NaN</td>\n",
       "      <td>100340.179688</td>\n",
       "      <td>303.591797</td>\n",
       "      <td>3.748219</td>\n",
       "      <td>2017-06-24 16:20:00</td>\n",
       "    </tr>\n",
       "  </tbody>\n",
       "</table>\n",
       "</div>"
      ],
      "text/plain": [
       "   Key_event   DoseRate  SimulatedGamma  Precipitation  InternalTemperature  \\\n",
       "0          0  64.720001        2.379895       0.004395                  NaN   \n",
       "1          0  66.440002        2.379895       0.004395                 39.5   \n",
       "2          0  68.610001        2.150784       0.000489                 39.0   \n",
       "3          0  68.809998        2.150784       0.000489                  NaN   \n",
       "4          0  72.099998        2.150784       0.000489                  NaN   \n",
       "\n",
       "        Pressure  Temperature  ZonalWind                Date  \n",
       "0   36319.777344   303.381073   3.325241 2017-06-24 15:40:00  \n",
       "1   36319.777344   303.381073   3.325241 2017-06-24 15:50:00  \n",
       "2  100340.179688   303.591797   3.748219 2017-06-24 16:00:00  \n",
       "3  100340.179688   303.591797   3.748219 2017-06-24 16:10:00  \n",
       "4  100340.179688   303.591797   3.748219 2017-06-24 16:20:00  "
      ]
     },
     "execution_count": 5,
     "metadata": {},
     "output_type": "execute_result"
    }
   ],
   "source": [
    "time_series.head()"
   ]
  },
  {
   "cell_type": "markdown",
   "id": "5cde2dc0",
   "metadata": {},
   "source": [
    "### Proportion of output labels "
   ]
  },
  {
   "cell_type": "code",
   "execution_count": 7,
   "id": "c8368f66",
   "metadata": {},
   "outputs": [
    {
     "name": "stdout",
     "output_type": "stream",
     "text": [
      "Number of samples: 261\n"
     ]
    },
    {
     "data": {
      "image/png": "[encoded data removed]",
      "text/plain": [
       "<Figure size 360x360 with 1 Axes>"
      ]
     },
     "metadata": {},
     "output_type": "display_data"
    }
   ],
   "source": [
    "print('Number of samples: %s' % events.shape[0])\n",
    "events.rename(columns={'IdIRSN': 'Labels'}).groupby('Label').count().plot(\n",
    "    y='Labels', kind='pie', autopct='%.2f', figsize=(5, 5));"
   ]
  },
  {
   "cell_type": "markdown",
   "id": "97b32578",
   "metadata": {},
   "source": [
    "### Events examples "
   ]
  },
  {
   "cell_type": "code",
   "execution_count": 8,
   "id": "f302d967",
   "metadata": {},
   "outputs": [
    {
     "data": {
      "image/png": "[encoded data removed]",
      "text/plain": [
       "<Figure size 432x288 with 1 Axes>"
      ]
     },
     "metadata": {
      "needs_background": "light"
     },
     "output_type": "display_data"
    }
   ],
   "source": [
    "time_series[time_series.Key_event==0].plot(y='DoseRate', x='Date', title='Weather Event', ylabel='Dose Rate');"
   ]
  },
  {
   "cell_type": "code",
   "execution_count": 9,
   "id": "c09c4e98",
   "metadata": {},
   "outputs": [
    {
     "data": {
      "image/png": "[encoded data removed]",
      "text/plain": [
       "<Figure size 432x288 with 1 Axes>"
      ]
     },
     "metadata": {
      "needs_background": "light"
     },
     "output_type": "display_data"
    }
   ],
   "source": [
    "time_series[time_series.Key_event==1].plot(y='DoseRate', x='Date', title='Electronic Peak', ylabel='Dose Rate');"
   ]
  },
  {
   "cell_type": "code",
   "execution_count": 10,
   "id": "f68d7088",
   "metadata": {},
   "outputs": [
    {
     "data": {
      "image/png": "[encoded data removed]",
      "text/plain": [
       "<Figure size 432x288 with 1 Axes>"
      ]
     },
     "metadata": {
      "needs_background": "light"
     },
     "output_type": "display_data"
    }
   ],
   "source": [
    "time_series[time_series.Key_event==422].plot(y='DoseRate', x='Date', title='Atmospheric Rejection', ylabel='Dose Rate');"
   ]
  },
  {
   "cell_type": "markdown",
   "id": "b62d71af",
   "metadata": {},
   "source": [
    "# Classification problem "
   ]
  },
  {
   "cell_type": "markdown",
   "id": "1b66ee4a",
   "metadata": {},
   "source": [
    "Each submission will contain two classes, saved in two different files:  \n",
    "* The *Feature Extractor* in feature_extractor.py to extract features for the classification \n",
    "* The *Classifier* in classifier.py to classify the radiological events\n",
    "\n",
    "The first step is a feature extractor, taking the raw time series and turning them in vector of statistical properties."
   ]
  },
  {
   "cell_type": "code",
   "execution_count": null,
   "id": "875b121a",
   "metadata": {},
   "outputs": [],
   "source": [
    "# file submissions/starting_kit/feature_extractor.py\n",
    "\n",
    "from tsfresh import extract_features\n",
    "from tsfresh.utilities.dataframe_functions import impute\n",
    "from tsfresh.feature_selection.relevance import calculate_relevance_table\n",
    "from tsfresh.feature_extraction.settings import from_columns\n",
    "\n",
    "class FeatureExtractor():\n",
    "    def __init__(self):\n",
    "        pass\n",
    "\n",
    "    def fit(self, X_df, y):\n",
    "        extracted_features = extract_features(X_df, column_id=\"Cle\")\n",
    "        #Imputation to remove unusable features creating nans \n",
    "        extracted_features=impute(extracted_features)  \n",
    "        #Calculation of p_values to evaluate features usefullness\n",
    "        df_p_values=calculate_relevance_table(extracted_features, y, ml_task='classification')\n",
    "        self.df_p_value= df_p_values\n",
    "        #Deleting irrelevant features according to p_values\n",
    "        extracted_features=extracted_features.drop(columns=df_p_values_new[df_p_values_new.relevant==0].index.values)\n",
    "        #Dictionnary containing features and corresponding parameters \n",
    "        self.features=  from_columns(extracted_features.columns)\n",
    "        \n",
    "    def transform(self, X_df):\n",
    "        df_features= extract_features(X_df, column_id=\"Cle\", default_fc_parameters=self.features)\n",
    "        return df_features"
   ]
  },
  {
   "cell_type": "markdown",
   "id": "1074a154",
   "metadata": {},
   "source": [
    "*Overwriting submissions/starting_kit/features_extractor.py*  \n",
    "The classifier implements a classifier of the scikit-learn template. The default is a random forest."
   ]
  },
  {
   "cell_type": "code",
   "execution_count": null,
   "id": "92b7abfc",
   "metadata": {},
   "outputs": [],
   "source": [
    "# file submissions/starting_kit/classifier.py\n",
    "\n",
    "from sklearn.ensemble import RandomForestClassifier\n",
    "from sklearn.pipeline import Pipeline\n",
    "from sklearn.base import BaseEstimator\n",
    "\n",
    "\n",
    "class Classifier(BaseEstimator):\n",
    "    def __init__(self):\n",
    "        self.n_estimators = 100\n",
    "        self.clf = Pipeline([\n",
    "            ('clf', RandomForestClassifier(\n",
    "                n_estimators=self.n_estimators, random_state=2))\n",
    "        ])\n",
    "\n",
    "    def fit(self, X, y):\n",
    "        self.clf.fit(X, y)\n",
    "\n",
    "    def predict(self, X):\n",
    "        return self.clf.predict(X)\n",
    "\n",
    "    def predict_proba(self, X):\n",
    "        return self.clf.predict_proba(X)"
   ]
  },
  {
   "cell_type": "markdown",
   "id": "a865dcb0",
   "metadata": {},
   "source": [
    "*Overwriting submissions/starting_kit/classifier.py*  \n"
   ]
  },
  {
   "cell_type": "markdown",
   "id": "a22dfc22",
   "metadata": {},
   "source": [
    "# The scores"
   ]
  },
  {
   "cell_type": "markdown",
   "id": "8f803056",
   "metadata": {},
   "source": [
    "This classification problem is evaluated through two scores taking into account class imbalance: \n",
    "* Weighted AUC \n",
    "* [Balanced Accuracy](https://github.com/paris-saclay-cds/ramp-workflow/blob/master/rampwf/score_types/balanced_accuracy.py)"
   ]
  },
  {
   "cell_type": "markdown",
   "id": "b0acd5ca",
   "metadata": {},
   "source": [
    "The weighted AUC is calculated using the [scikit-learn library](https://scikit-learn.org/stable/modules/generated/sklearn.metrics.roc_auc_score.html), computing the average AUC over the labels weighted by support to take into account class imbalance (the class is shown below). "
   ]
  },
  {
   "cell_type": "code",
   "execution_count": null,
   "id": "a8ec196f",
   "metadata": {},
   "outputs": [],
   "source": [
    "class weighted_ROCAUC(BaseScoreType):\n",
    "    is_lower_the_better = False\n",
    "    minimum = 0.0\n",
    "    maximum = 1.0\n",
    "\n",
    "    def __init__(self, name='weighted_roc_auc', precision=2):\n",
    "        self.name = name\n",
    "        self.precision = precision\n",
    "\n",
    "    def score_function(self, ground_truths, predictions):\n",
    "        \"\"\"\n",
    "            Weighted average AUC:\n",
    "            Calculate metrics for each label, and find their average, weighted by support. \n",
    "        \"\"\"\n",
    "        y_proba = predictions.y_pred #shape (n_samples, n_classes)\n",
    "        y_true_proba = ground_truths.y_pred_label_index #shape (n_samples, 1)\n",
    "        y_true_proba= label_binarize(y_true_proba, classes=np.unique(y_true_proba)) #shape (n_samples, n_classes)\n",
    "        self.check_y_pred_dimensions(y_true_proba, y_proba)\n",
    "        return self.__call__(y_true_proba, y_proba)\n",
    "\n",
    "    def __call__(self, y_true_proba, y_proba):\n",
    "        return roc_auc_score(y_true_proba, y_proba, average='weigthed')"
   ]
  },
  {
   "cell_type": "markdown",
   "id": "6c1261c4",
   "metadata": {},
   "source": [
    "# Ressources "
   ]
  },
  {
   "cell_type": "markdown",
   "id": "d1a8b9c3",
   "metadata": {},
   "source": [
    "[1]<a class=\"anchor\" id=\"Link1\"></a> https://meetingorganizer.copernicus.org/EGU21/EGU21-9081.html"
   ]
  }
 ],
 "metadata": {
  "kernelspec": {
   "display_name": "Python 3",
   "language": "python",
   "name": "python3"
  },
  "language_info": {
   "codemirror_mode": {
    "name": "ipython",
    "version": 3
   },
   "file_extension": ".py",
   "mimetype": "text/x-python",
   "name": "python",
   "nbconvert_exporter": "python",
   "pygments_lexer": "ipython3",
   "version": "3.6.11"
  }
 },
 "nbformat": 4,
 "nbformat_minor": 5
}
